{
  "nbformat": 4,
  "nbformat_minor": 0,
  "metadata": {
    "colab": {
      "provenance": [],
      "authorship_tag": "ABX9TyMiDqzn+H7ZJcamqL2Ufisg",
      "include_colab_link": true
    },
    "kernelspec": {
      "name": "python3",
      "display_name": "Python 3"
    },
    "language_info": {
      "name": "python"
    }
  },
  "cells": [
    {
      "cell_type": "markdown",
      "metadata": {
        "id": "view-in-github",
        "colab_type": "text"
      },
      "source": [
        "<a href=\"https://colab.research.google.com/github/vjaswanthvarma/ML-projects/blob/main/Tokenization_Stemming_Lemmantation.ipynb\" target=\"_parent\"><img src=\"https://colab.research.google.com/assets/colab-badge.svg\" alt=\"Open In Colab\"/></a>"
      ]
    },
    {
      "cell_type": "markdown",
      "source": [
        "1)Tokenization by using Python Split() method\n"
      ],
      "metadata": {
        "id": "JW0fkgxFamhW"
      }
    },
    {
      "cell_type": "code",
      "source": [
        "# word Tokenization\n",
        "text=\"Now don't suppose that there are only bare white sands at the bottom of the sea. No indeed! The most marvelous trees and flowers grow down there, with such pliant stalks and leaves that the least stir in the water makes them move about as though they were alive.\"\n",
        "tokens=text.split(\" \")\n",
        "print(tokens)"
      ],
      "metadata": {
        "colab": {
          "base_uri": "https://localhost:8080/"
        },
        "id": "G4Zy8UD8atRi",
        "outputId": "e1934858-62b1-4b59-bc8d-b06bc1851a49"
      },
      "execution_count": 1,
      "outputs": [
        {
          "output_type": "stream",
          "name": "stdout",
          "text": [
            "['Now', \"don't\", 'suppose', 'that', 'there', 'are', 'only', 'bare', 'white', 'sands', 'at', 'the', 'bottom', 'of', 'the', 'sea.', 'No', 'indeed!', 'The', 'most', 'marvelous', 'trees', 'and', 'flowers', 'grow', 'down', 'there,', 'with', 'such', 'pliant', 'stalks', 'and', 'leaves', 'that', 'the', 'least', 'stir', 'in', 'the', 'water', 'makes', 'them', 'move', 'about', 'as', 'though', 'they', 'were', 'alive.']\n"
          ]
        }
      ]
    },
    {
      "cell_type": "code",
      "source": [
        "# Sentence Tokenization\n",
        "text=\"Now don't suppose that there are only bare white sands at the bottom of the sea. No indeed! The most marvelous trees and flowers grow down there, with such pliant stalks and leaves that the least stir in the water makes them move about as though they were alive.\"\n",
        "tokens=text.split(\".\")\n",
        "print(tokens)"
      ],
      "metadata": {
        "colab": {
          "base_uri": "https://localhost:8080/"
        },
        "id": "AEccqhd_bIjt",
        "outputId": "9fa012dc-9f6b-43e1-ad87-1d7c50fc0701"
      },
      "execution_count": 2,
      "outputs": [
        {
          "output_type": "stream",
          "name": "stdout",
          "text": [
            "[\"Now don't suppose that there are only bare white sands at the bottom of the sea\", ' No indeed! The most marvelous trees and flowers grow down there, with such pliant stalks and leaves that the least stir in the water makes them move about as though they were alive', '']\n"
          ]
        }
      ]
    },
    {
      "cell_type": "markdown",
      "source": [
        "2) Tokenization by using Regular Expression"
      ],
      "metadata": {
        "id": "y35K23O0bb4z"
      }
    },
    {
      "cell_type": "code",
      "source": [
        "import re\n",
        "# word Tokenization\n",
        "text=\"Now don't suppose that there are only bare white sands at the bottom of the sea.No indeed! The most marvelous trees and flowers grow down there, with such pliant stalks and leaves that the least stir in the water makes them move about as though they were alive.\"\n",
        "tokens=re.findall(\"[\\w']+\",text)\n",
        "print(tokens)\n",
        "# Sentence Tokenization\n",
        "text=\"Now don't suppose that there are only bare white sands at the bottom of the sea. No indeed! The most marvelous trees and flowers grow down there, with such pliant stalks and leaves that the least stir in the water makes them move about as though they were alive.\"\n",
        "tokens1=re.compile('[.?!] ').split(text)\n",
        "print(tokens1)"
      ],
      "metadata": {
        "colab": {
          "base_uri": "https://localhost:8080/"
        },
        "id": "8G6wiHZKbeGY",
        "outputId": "0ea70dc8-ce17-4478-cf83-2dc075f25d73"
      },
      "execution_count": 13,
      "outputs": [
        {
          "output_type": "stream",
          "name": "stdout",
          "text": [
            "['Now', \"don't\", 'suppose', 'that', 'there', 'are', 'only', 'bare', 'white', 'sands', 'at', 'the', 'bottom', 'of', 'the', 'sea', 'No', 'indeed', 'The', 'most', 'marvelous', 'trees', 'and', 'flowers', 'grow', 'down', 'there', 'with', 'such', 'pliant', 'stalks', 'and', 'leaves', 'that', 'the', 'least', 'stir', 'in', 'the', 'water', 'makes', 'them', 'move', 'about', 'as', 'though', 'they', 'were', 'alive']\n",
            "[\"Now don't suppose that there are only bare white sands at the bottom of the sea\", 'No indeed', 'The most marvelous trees and flowers grow down there, with such pliant stalks and leaves that the least stir in the water makes them move about as though they were alive.']\n"
          ]
        }
      ]
    },
    {
      "cell_type": "markdown",
      "source": [
        "3)Tokenization by using NLTK"
      ],
      "metadata": {
        "id": "PU1Rr-XLce3P"
      }
    },
    {
      "cell_type": "code",
      "source": [
        "!pip install --user -U nltk"
      ],
      "metadata": {
        "colab": {
          "base_uri": "https://localhost:8080/"
        },
        "id": "jkdsYPPOcr8m",
        "outputId": "ca7536a3-4dbf-49fb-b4d7-767a4b810d5e"
      },
      "execution_count": 8,
      "outputs": [
        {
          "output_type": "stream",
          "name": "stdout",
          "text": [
            "Looking in indexes: https://pypi.org/simple, https://us-python.pkg.dev/colab-wheels/public/simple/\n",
            "Requirement already satisfied: nltk in /usr/local/lib/python3.10/dist-packages (3.8.1)\n",
            "Requirement already satisfied: click in /usr/local/lib/python3.10/dist-packages (from nltk) (8.1.3)\n",
            "Requirement already satisfied: joblib in /usr/local/lib/python3.10/dist-packages (from nltk) (1.2.0)\n",
            "Requirement already satisfied: regex>=2021.8.3 in /usr/local/lib/python3.10/dist-packages (from nltk) (2022.10.31)\n",
            "Requirement already satisfied: tqdm in /usr/local/lib/python3.10/dist-packages (from nltk) (4.65.0)\n"
          ]
        }
      ]
    },
    {
      "cell_type": "code",
      "source": [
        "import nltk\n",
        "nltk.download(\"punkt\")"
      ],
      "metadata": {
        "colab": {
          "base_uri": "https://localhost:8080/"
        },
        "id": "ps1DdNGHc0HP",
        "outputId": "35357a3e-c236-4132-a398-fb2e209c3d41"
      },
      "execution_count": 10,
      "outputs": [
        {
          "output_type": "stream",
          "name": "stderr",
          "text": [
            "[nltk_data] Downloading package punkt to /root/nltk_data...\n",
            "[nltk_data]   Unzipping tokenizers/punkt.zip.\n"
          ]
        },
        {
          "output_type": "execute_result",
          "data": {
            "text/plain": [
              "True"
            ]
          },
          "metadata": {},
          "execution_count": 10
        }
      ]
    },
    {
      "cell_type": "code",
      "source": [
        "# words Tokenization\n",
        "from nltk.tokenize import word_tokenize\n",
        "text=\"Now don't suppose that there are only bare white sands at the bottom of the sea.  No indeed!The most marvelous trees and flowers grow down there, with such pliant stalks and leaves that the least stir in the water makes them move about as though they were alive.\"\n",
        "words=word_tokenize(text)\n",
        "print(words)\n",
        "print(\"Number of words\",len(words))\n",
        "# Sentence Tokenization\n",
        "from nltk.tokenize import sent_tokenize\n",
        "sentences=sent_tokenize(text)\n",
        "print(sentences)\n",
        "print(\"length of sentences\",len(sentences))"
      ],
      "metadata": {
        "colab": {
          "base_uri": "https://localhost:8080/"
        },
        "id": "cCSIJ7kpc_59",
        "outputId": "5efa04ae-4302-42c9-8228-79538ab22067"
      },
      "execution_count": 18,
      "outputs": [
        {
          "output_type": "stream",
          "name": "stdout",
          "text": [
            "['Now', 'do', \"n't\", 'suppose', 'that', 'there', 'are', 'only', 'bare', 'white', 'sands', 'at', 'the', 'bottom', 'of', 'the', 'sea', '.', 'No', 'indeed', '!', 'The', 'most', 'marvelous', 'trees', 'and', 'flowers', 'grow', 'down', 'there', ',', 'with', 'such', 'pliant', 'stalks', 'and', 'leaves', 'that', 'the', 'least', 'stir', 'in', 'the', 'water', 'makes', 'them', 'move', 'about', 'as', 'though', 'they', 'were', 'alive', '.']\n",
            "Number of words 54\n",
            "[\"Now don't suppose that there are only bare white sands at the bottom of the sea.\", 'No indeed!The most marvelous trees and flowers grow down there, with such pliant stalks and leaves that the least stir in the water makes them move about as though they were alive.']\n",
            "length of sentences 2\n"
          ]
        }
      ]
    },
    {
      "cell_type": "markdown",
      "source": [
        "Stemming Words\n"
      ],
      "metadata": {
        "id": "aAIR15RHesyz"
      }
    },
    {
      "cell_type": "code",
      "source": [
        "from nltk.stem import PorterStemmer\n",
        "#Create an object in PorterStemmer Class\n",
        "PS=PorterStemmer()\n",
        "print(PS.stem(\"caring\"))\n",
        "print(PS.stem(\"bikes\"))"
      ],
      "metadata": {
        "colab": {
          "base_uri": "https://localhost:8080/"
        },
        "id": "31_TMpHcezQh",
        "outputId": "85ca0b3d-bdfd-44ff-b0ab-3286d8f31ff5"
      },
      "execution_count": 21,
      "outputs": [
        {
          "output_type": "stream",
          "name": "stdout",
          "text": [
            "care\n",
            "bike\n"
          ]
        }
      ]
    },
    {
      "cell_type": "code",
      "source": [
        "#Stem the sentence\n",
        "from nltk.tokenize import word_tokenize,sent_tokenize\n",
        "text=\"Now don't suppose that there are only bare white sands at the bottom of the sea. No indeed! The most marvelous trees and flowers grow down there, with such pliant stalks and leaves that the least stir in the water makes them move about as though they were alive.\"\n",
        "def StemmingSent(text):\n",
        "  PS=PorterStemmer()\n",
        "  words=word_tokenize(text)\n",
        "  stemwords=[]\n",
        "  for word in words:\n",
        "    stemwords.append(PS.stem(word))\n",
        "    stemwords.append(\" \")\n",
        "  return \"\".join(stemwords)\n",
        "print(\"Stemming of Words in Sentence:  \",StemmingSent(text))"
      ],
      "metadata": {
        "colab": {
          "base_uri": "https://localhost:8080/"
        },
        "id": "f6sxiTjpfQtN",
        "outputId": "7990ec64-d0ef-4163-955e-bf3e31214593"
      },
      "execution_count": 25,
      "outputs": [
        {
          "output_type": "stream",
          "name": "stdout",
          "text": [
            "Stemming of Words in Sentence:   now do n't suppos that there are onli bare white sand at the bottom of the sea . no inde ! the most marvel tree and flower grow down there , with such pliant stalk and leav that the least stir in the water make them move about as though they were aliv . \n"
          ]
        }
      ]
    },
    {
      "cell_type": "code",
      "source": [
        "import nltk\n",
        "nltk.download('wordnet')"
      ],
      "metadata": {
        "colab": {
          "base_uri": "https://localhost:8080/"
        },
        "id": "q2waLYAciwQ4",
        "outputId": "89a0e1cb-e133-45ce-a54a-40340102ad8d"
      },
      "execution_count": 33,
      "outputs": [
        {
          "output_type": "stream",
          "name": "stderr",
          "text": [
            "[nltk_data] Downloading package wordnet to /root/nltk_data...\n"
          ]
        },
        {
          "output_type": "execute_result",
          "data": {
            "text/plain": [
              "True"
            ]
          },
          "metadata": {},
          "execution_count": 33
        }
      ]
    },
    {
      "cell_type": "code",
      "source": [
        "# Stemming of an Document\n",
        "import nltk\n",
        "from nltk.stem import WordNetLemmatizer\n",
        "wordLemma=WordNetLemmatizer()\n",
        "text=\"Now don't suppose that there are only bare white sands at the bottom of the sea. No indeed! The most marvelous trees and flowers grow down there, with such pliant stalks and leaves that the least stir in the water makes them move about as though they were alive.\"\n",
        "def lemmaWords(text):\n",
        "  lemmawords=[]\n",
        "  words=word_tokenize(text)\n",
        "  for word in words:\n",
        "    lemmawords.append(wordLemma.lemmatize(word))\n",
        "    lemmawords.append(\" \")\n",
        "  return \"\".join(lemmawords)\n",
        "print(\"lemma tokens: \",lemmaWords(text))\n",
        "    "
      ],
      "metadata": {
        "colab": {
          "base_uri": "https://localhost:8080/"
        },
        "id": "e9geBX0xgrNM",
        "outputId": "730b0ade-ee4b-4c40-d5fb-d53c979e8c97"
      },
      "execution_count": 38,
      "outputs": [
        {
          "output_type": "stream",
          "name": "stdout",
          "text": [
            "['Now', 'do', \"n't\", 'suppose', 'that', 'there', 'are', 'only', 'bare', 'white', 'sands', 'at', 'the', 'bottom', 'of', 'the', 'sea', '.', 'No', 'indeed', '!', 'The', 'most', 'marvelous', 'trees', 'and', 'flowers', 'grow', 'down', 'there', ',', 'with', 'such', 'pliant', 'stalks', 'and', 'leaves', 'that', 'the', 'least', 'stir', 'in', 'the', 'water', 'makes', 'them', 'move', 'about', 'as', 'though', 'they', 'were', 'alive', '.']\n",
            "lemma tokens:  Now do n't suppose that there are only bare white sand at the bottom of the sea . No indeed ! The most marvelous tree and flower grow down there , with such pliant stalk and leaf that the least stir in the water make them move about a though they were alive . \n"
          ]
        }
      ]
    }
  ]
}